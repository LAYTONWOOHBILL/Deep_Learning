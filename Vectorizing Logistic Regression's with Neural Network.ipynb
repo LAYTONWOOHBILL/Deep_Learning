{
 "cells": [
  {
   "cell_type": "markdown",
   "metadata": {},
   "source": [
    "#### Logistic Regression's \n",
    "    J=0, dw1= 0, dw2=0, db=0\n",
    "        for i in range(m):\n",
    "            z = W.T*x[i]+b\n",
    "            a = sigmoid (zi)\n",
    "            j += -(y[i]log(a[i])+(1-y[i])log(1-a[i])) #loss function\n",
    "            dz = a[i] - y[i]\n",
    "            dw1 += x1[i]*dz[i]\n",
    "            dw2 += x2[i]*dz[i]\n",
    "            db  += dz[i]\n",
    "        J = j/m, dw1 =dw1/m, dw2 = dw2/m \n",
    "        db= db/m"
   ]
  },
  {
   "cell_type": "markdown",
   "metadata": {},
   "source": [
    "#### Vectorizing Logistic Regression's \n",
    "    \n",
    "    Z = W.T*X+b\n",
    "      = np.dot(W.T,X)+b\n",
    "    A = Sig(A)\n",
    "    dZ =A - Y\n",
    "    dW = 1/m (X*dZ.T)\n",
    "    db = 1/m np.sum(dZ)\n",
    "    \n",
    "Gradient descent:\n",
    "    \n",
    "    W := W - learningrate(dW)\n",
    "    b := b - learningrate(db)\n",
    "    \n",
    "still need for loop to run each time Gradient descent.(but only)"
   ]
  },
  {
   "cell_type": "code",
   "execution_count": 1,
   "metadata": {},
   "outputs": [],
   "source": [
    "import numpy as np"
   ]
  },
  {
   "cell_type": "markdown",
   "metadata": {},
   "source": [
    "#### Broadcasting example \n",
    "    \n",
    "    python will copy the matrix m or n times\n",
    "    \n",
    "    matrix (m,n)  +-*/ (1,n)  --> (m,n)\n",
    "    matrix (m,n)  +-*/ (m,1)  --> (m,n)"
   ]
  },
  {
   "cell_type": "code",
   "execution_count": 3,
   "metadata": {},
   "outputs": [
    {
     "name": "stdout",
     "output_type": "stream",
     "text": [
      "[[ 56.    0.    4.4  68. ]\n",
      " [  1.2 104.   52.    8. ]\n",
      " [  1.8 135.   99.    0.9]]\n"
     ]
    }
   ],
   "source": [
    "import numpy as np\n",
    "\n",
    "A = np.array([[56.0,0.0,4.4,68.0],\n",
    "              [1.2,104.0,52.0,8.0],\n",
    "              [1.8,135.0,99.0,0.9]])\n",
    "print(A)"
   ]
  },
  {
   "cell_type": "code",
   "execution_count": 4,
   "metadata": {},
   "outputs": [
    {
     "name": "stdout",
     "output_type": "stream",
     "text": [
      "[ 59.  239.  155.4  76.9]\n"
     ]
    }
   ],
   "source": [
    "cal = A.sum(axis=0) #vertical sum \n",
    "print(cal)"
   ]
  },
  {
   "cell_type": "code",
   "execution_count": 12,
   "metadata": {},
   "outputs": [
    {
     "name": "stdout",
     "output_type": "stream",
     "text": [
      "[[94.92  0.    2.83 88.43]\n",
      " [ 2.03 43.51 33.46 10.4 ]\n",
      " [ 3.05 56.49 63.71  1.17]]\n"
     ]
    }
   ],
   "source": [
    "percentage = 100*(A/cal.reshape(1,4)).round(4)\n",
    "print(percentage)"
   ]
  },
  {
   "cell_type": "markdown",
   "metadata": {},
   "source": [
    "#### A note on python/numpy vectors"
   ]
  },
  {
   "cell_type": "code",
   "execution_count": 16,
   "metadata": {},
   "outputs": [
    {
     "name": "stdout",
     "output_type": "stream",
     "text": [
      "[ 0.47287441 -1.63163929 -0.32348058  0.08125577  1.39217616]\n",
      "(5,)\n",
      "[ 0.47287441 -1.63163929 -0.32348058  0.08125577  1.39217616]\n",
      "4.935253615556018\n"
     ]
    }
   ],
   "source": [
    "a = np.random.randn(5) # not reconmend, rank 1 array\n",
    "print(a)\n",
    "print(a.shape)\n",
    "print(a.T)\n",
    "print(np.dot(a,a.T)) "
   ]
  },
  {
   "cell_type": "code",
   "execution_count": 17,
   "metadata": {},
   "outputs": [
    {
     "name": "stdout",
     "output_type": "stream",
     "text": [
      "[[ 1.11756731]\n",
      " [ 1.01311584]\n",
      " [ 0.87709781]\n",
      " [-1.03156429]\n",
      " [ 0.10268494]]\n",
      "(5, 1)\n",
      "[[ 1.11756731  1.01311584  0.87709781 -1.03156429  0.10268494]]\n",
      "[[ 1.24895669  1.13222515  0.98021584 -1.15284253  0.11475733]\n",
      " [ 1.13222515  1.02640371  0.88860169 -1.04509413  0.10403174]\n",
      " [ 0.98021584  0.88860169  0.76930057 -0.90478278  0.09006473]\n",
      " [-1.15284253 -1.04509413 -0.90478278  1.06412489 -0.10592611]\n",
      " [ 0.11475733  0.10403174  0.09006473 -0.10592611  0.0105442 ]]\n"
     ]
    }
   ],
   "source": [
    "a = np.random.randn(5,1) # 5 by 1 matrix!\n",
    "print(a)\n",
    "print(a.shape)\n",
    "print(a.T)\n",
    "print(np.dot(a,a.T))"
   ]
  },
  {
   "cell_type": "code",
   "execution_count": null,
   "metadata": {},
   "outputs": [],
   "source": []
  }
 ],
 "metadata": {
  "kernelspec": {
   "display_name": "my-conda-env-kernel",
   "language": "python",
   "name": "my-conda-env-kernel"
  },
  "language_info": {
   "codemirror_mode": {
    "name": "ipython",
    "version": 3
   },
   "file_extension": ".py",
   "mimetype": "text/x-python",
   "name": "python",
   "nbconvert_exporter": "python",
   "pygments_lexer": "ipython3",
   "version": "3.7.1"
  }
 },
 "nbformat": 4,
 "nbformat_minor": 4
}
